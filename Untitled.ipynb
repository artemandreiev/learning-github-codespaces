{
 "cells": [
  {
   "cell_type": "code",
   "execution_count": 1,
   "id": "902dd832-e9e9-4474-8ba5-866a4784dcb5",
   "metadata": {},
   "outputs": [
    {
     "name": "stdout",
     "output_type": "stream",
     "text": [
      "whats going on, world in codespaces\n"
     ]
    }
   ],
   "source": [
    "print('whats going on, world in codespaces')"
   ]
  },
  {
   "cell_type": "code",
   "execution_count": null,
   "id": "7bf2d2a1-72e4-4fda-bf17-88d751933358",
   "metadata": {},
   "outputs": [],
   "source": []
  }
 ],
 "metadata": {
  "kernelspec": {
   "display_name": "Python 3 (ipykernel)",
   "language": "python",
   "name": "python3"
  },
  "language_info": {
   "codemirror_mode": {
    "name": "ipython",
    "version": 3
   },
   "file_extension": ".py",
   "mimetype": "text/x-python",
   "name": "python",
   "nbconvert_exporter": "python",
   "pygments_lexer": "ipython3",
   "version": "3.10.13"
  }
 },
 "nbformat": 4,
 "nbformat_minor": 5
}
